{
 "cells": [
  {
   "cell_type": "code",
   "execution_count": null,
   "metadata": {},
   "outputs": [],
   "source": [
    "import requests\n",
    "import pandas as pd\n"
   ]
  },
  {
   "cell_type": "code",
   "execution_count": null,
   "metadata": {},
   "outputs": [],
   "source": [
    "for i in df.index:\n",
    "    send_reviews(df['Review'][i],df['Movie'][i])"
   ]
  },
  {
   "cell_type": "code",
   "execution_count": null,
   "metadata": {},
   "outputs": [],
   "source": [
    "\n",
    "data = {'Movie': ['Inception', 'Inception', 'Inception', 'Inception', \n",
    "                  'Pulp Fiction', 'Pulp Fiction', 'Pulp Fiction', 'Pulp Fiction',\n",
    "                  'The Avengers', 'The Avengers', 'The Avengers', 'The Avengers'],\n",
    "        'Review': ['Inception is a cinematic marvel that pushes the boundaries of storytelling, with its fascinating concept of dream manipulation.', \n",
    "                   'A riveting journey through the consciousness, Nolan\\'s Inception excels in its ambitious vision and execution.',\n",
    "                   'With layers of complex narratives, Inception stands as a beautiful blend of intellectual rigor and cinematic spectacle.',\n",
    "                   'Architectures of the mind come alive in Inception, a gripping tour de force from Nolan, bolstered by DiCaprio\\'s powerful lead performance.',\n",
    "                   'Pulp Fiction is a postmodern feast of interconnecting narratives, punctuated by Tarantino\\'s signature dialogue and non-linear storytelling.',\n",
    "                   'Tarantino\\'s masterpiece, Pulp Fiction reinvents the crime thriller genre with its eclectic mix of characters and converging storylines.',\n",
    "                   'Shattering traditional storytelling, Pulp Fiction provides a delightful play on narrative structure, complemented with mesmerizing performances and iconic dialogues.',\n",
    "                   'A darkly comic panorama of Los Angeles\\' underworld, Tarantino\\'s Pulp Fiction is a film that dances amusingly with crime fiction tropes.',\n",
    "                   'Combining humor with impressive action sequences, The Avengers is a superhero ensemble film done right.', \n",
    "                   'A breakthrough in the superhero genre, The Avengers brings together an unforgettable ensemble for a visually spectacular and entertaining experience.',\n",
    "                   'Joss Whedon\\'s The Avengers merges action, humor, and complex characters, setting a new standard for superhero team-up movies.',\n",
    "                   'Visually stunning and well-paced, The Avengers is a triumph of comic-book action, weaving individual superhero narratives into a collective spectacle.']\n",
    "        }\n",
    "\n",
    "df = pd.DataFrame(data)"
   ]
  },
  {
   "cell_type": "code",
   "execution_count": null,
   "metadata": {},
   "outputs": [],
   "source": [
    "def send_reviews(feedback, name):\n",
    "    url='https://www.wrike.com/api/v4/folders/{your folder id}/tasks'\n",
    "    payload = {\n",
    "    'title': feedback,\n",
    "    #'description':''\n",
    "    'customFields': [{'id': '{your custom field id}',\n",
    "                      'value':name}\n",
    "                    ]\n",
    "    }\n",
    "\n",
    "    response = requests.post(url, headers=headers,json=payload)\n",
    "\n",
    "    # Check the response\n",
    "    if response.status_code == 200:\n",
    "        print('POST request successful!')\n",
    "        #print(response.json())\n",
    "    else:\n",
    "        print('POST request failed. Status code:', response.status_code)\n",
    "        #print(response.text)"
   ]
  },
  {
   "cell_type": "code",
   "execution_count": null,
   "metadata": {},
   "outputs": [],
   "source": [
    "token='''{your token}'''\n",
    "headers = {\n",
    "    'Authorization': token,\n",
    "    'Content-Type': 'application/json'\n",
    "}\n"
   ]
  },
  {
   "cell_type": "code",
   "execution_count": null,
   "metadata": {},
   "outputs": [],
   "source": [
    "###how to get list of folders:\n",
    "#url='https://www.wrike.com/api/v4/folders'\n",
    "###how to get list of custom fields\n",
    "#url='https://www.wrike.com/api/v4/customfields'\n"
   ]
  }
 ],
 "metadata": {
  "kernelspec": {
   "display_name": "Python 3",
   "language": "python",
   "name": "python3"
  },
  "language_info": {
   "codemirror_mode": {
    "name": "ipython",
    "version": 3
   },
   "file_extension": ".py",
   "mimetype": "text/x-python",
   "name": "python",
   "nbconvert_exporter": "python",
   "pygments_lexer": "ipython3",
   "version": "3.8.5"
  }
 },
 "nbformat": 4,
 "nbformat_minor": 4
}
